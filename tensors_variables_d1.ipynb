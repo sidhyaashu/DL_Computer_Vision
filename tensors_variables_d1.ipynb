{
  "nbformat": 4,
  "nbformat_minor": 0,
  "metadata": {
    "colab": {
      "provenance": [],
      "authorship_tag": "ABX9TyMTq0pu5+KQORIUAZ7QCo7/",
      "include_colab_link": true
    },
    "kernelspec": {
      "name": "python3",
      "display_name": "Python 3"
    },
    "language_info": {
      "name": "python"
    }
  },
  "cells": [
    {
      "cell_type": "markdown",
      "metadata": {
        "id": "view-in-github",
        "colab_type": "text"
      },
      "source": [
        "<a href=\"https://colab.research.google.com/github/sidhyaashu/DL_Computer_Vision/blob/master/tensors_variables_d1.ipynb\" target=\"_parent\"><img src=\"https://colab.research.google.com/assets/colab-badge.svg\" alt=\"Open In Colab\"/></a>"
      ]
    },
    {
      "cell_type": "markdown",
      "source": [
        "# Tensors"
      ],
      "metadata": {
        "id": "B9Jge9M5CvTc"
      }
    },
    {
      "cell_type": "markdown",
      "source": [
        "https://www.tensorflow.org/api_docs/python/tf"
      ],
      "metadata": {
        "id": "OPINOKeYVowl"
      }
    },
    {
      "cell_type": "code",
      "source": [
        "import tensorflow as tf"
      ],
      "metadata": {
        "id": "6ips4OosCwoj"
      },
      "execution_count": 4,
      "outputs": []
    },
    {
      "cell_type": "code",
      "source": [
        "tensor_zero_d = tf.constant(4)\n",
        "print(tensor_zero_d)"
      ],
      "metadata": {
        "id": "Soh5iZ3hC1OI",
        "outputId": "62b4227d-cf83-4bd5-b529-8ab0102ebc6d",
        "colab": {
          "base_uri": "https://localhost:8080/"
        }
      },
      "execution_count": null,
      "outputs": [
        {
          "output_type": "stream",
          "name": "stdout",
          "text": [
            "tf.Tensor(4, shape=(), dtype=int32)\n"
          ]
        }
      ]
    },
    {
      "cell_type": "code",
      "source": [
        "tensor_one_d = tf.constant([1,2,3,4,5,6])\n",
        "print(tensor_one_d)"
      ],
      "metadata": {
        "id": "792smLESC-q4",
        "outputId": "60b96754-9a02-47e7-843f-731150471f6f",
        "colab": {
          "base_uri": "https://localhost:8080/"
        }
      },
      "execution_count": null,
      "outputs": [
        {
          "output_type": "stream",
          "name": "stdout",
          "text": [
            "tf.Tensor([1 2 3 4 5 6], shape=(6,), dtype=int32)\n"
          ]
        }
      ]
    },
    {
      "cell_type": "code",
      "source": [
        "tensor_two_d = tf.constant([\n",
        "    [1,2,3],\n",
        "    [4,5,6],\n",
        "    [7,8,9]\n",
        "])\n",
        "print(tensor_two_d)"
      ],
      "metadata": {
        "id": "eqYE-FEBDWNj",
        "outputId": "2dee3a91-0274-4bb9-ea35-b111b3c8ccb0",
        "colab": {
          "base_uri": "https://localhost:8080/"
        }
      },
      "execution_count": null,
      "outputs": [
        {
          "output_type": "stream",
          "name": "stdout",
          "text": [
            "tf.Tensor(\n",
            "[[1 2 3]\n",
            " [4 5 6]\n",
            " [7 8 9]], shape=(3, 3), dtype=int32)\n"
          ]
        }
      ]
    },
    {
      "cell_type": "code",
      "source": [
        "tensor_three_d = tf.constant([\n",
        "    [\n",
        "        [1,2,3],\n",
        "        [4,5,6]\n",
        "    ],\n",
        "    [\n",
        "        [7,8,9],\n",
        "        [10,11,12]\n",
        "    ],\n",
        "    [\n",
        "        [13,14,15],\n",
        "        [16,17,18]\n",
        "    ]\n",
        "])\n",
        "\n",
        "print(tensor_three_d)"
      ],
      "metadata": {
        "id": "qG95yLqwDiZ_",
        "outputId": "e1079f33-9a00-4e91-8986-d436083c3c39",
        "colab": {
          "base_uri": "https://localhost:8080/"
        }
      },
      "execution_count": null,
      "outputs": [
        {
          "output_type": "stream",
          "name": "stdout",
          "text": [
            "tf.Tensor(\n",
            "[[[ 1  2  3]\n",
            "  [ 4  5  6]]\n",
            "\n",
            " [[ 7  8  9]\n",
            "  [10 11 12]]\n",
            "\n",
            " [[13 14 15]\n",
            "  [16 17 18]]], shape=(3, 2, 3), dtype=int32)\n"
          ]
        }
      ]
    },
    {
      "cell_type": "code",
      "source": [
        "print(tensor_three_d.ndim)"
      ],
      "metadata": {
        "id": "M_DiU2e5EJtA",
        "outputId": "786a1ea8-1cd2-4ba9-adfd-6fb0d1ce954f",
        "colab": {
          "base_uri": "https://localhost:8080/"
        }
      },
      "execution_count": null,
      "outputs": [
        {
          "output_type": "stream",
          "name": "stdout",
          "text": [
            "3\n"
          ]
        }
      ]
    },
    {
      "cell_type": "code",
      "source": [
        "tensor_four_d = tf.constant([\n",
        "    [\n",
        "    [\n",
        "        [1,2,3],\n",
        "        [4,5,6]\n",
        "    ],\n",
        "    [\n",
        "        [7,8,9],\n",
        "        [10,11,12]\n",
        "    ],\n",
        "    [\n",
        "        [13,14,15],\n",
        "        [16,17,18]\n",
        "    ]\n",
        "],\n",
        "    [\n",
        "    [\n",
        "        [1,2,3],\n",
        "        [4,5,6]\n",
        "    ],\n",
        "    [\n",
        "        [7,8,9],\n",
        "        [10,11,12]\n",
        "    ],\n",
        "    [\n",
        "        [13,14,15],\n",
        "        [16,17,18]\n",
        "    ]\n",
        "],[\n",
        "    [\n",
        "        [1,2,3],\n",
        "        [4,5,6]\n",
        "    ],\n",
        "    [\n",
        "        [7,8,9],\n",
        "        [10,11,12]\n",
        "    ],\n",
        "    [\n",
        "        [13,14,15],\n",
        "        [16,17,18]\n",
        "    ]\n",
        "]\n",
        "])\n",
        "\n",
        "print(tensor_four_d.ndim)"
      ],
      "metadata": {
        "id": "ch81IshaEkPK",
        "outputId": "882bedcb-f753-4621-fdf6-e3e38a5b5f43",
        "colab": {
          "base_uri": "https://localhost:8080/"
        }
      },
      "execution_count": null,
      "outputs": [
        {
          "output_type": "stream",
          "name": "stdout",
          "text": [
            "4\n"
          ]
        }
      ]
    },
    {
      "cell_type": "code",
      "source": [],
      "metadata": {
        "id": "J27lK1wSFJs3"
      },
      "execution_count": null,
      "outputs": []
    },
    {
      "cell_type": "code",
      "source": [],
      "metadata": {
        "id": "hiCfyn8hJbOh"
      },
      "execution_count": null,
      "outputs": []
    },
    {
      "cell_type": "markdown",
      "source": [
        "# Convert Numpy To Tensor"
      ],
      "metadata": {
        "id": "ZnyLDG6MJb1O"
      }
    },
    {
      "cell_type": "code",
      "source": [
        "import numpy as np\n"
      ],
      "metadata": {
        "id": "Orw2KNEgJhEy"
      },
      "execution_count": 1,
      "outputs": []
    },
    {
      "cell_type": "code",
      "source": [
        "np_array = np.array([1,2,3,4])\n",
        "print(np_array)"
      ],
      "metadata": {
        "colab": {
          "base_uri": "https://localhost:8080/"
        },
        "id": "p2e0e9xiJkjd",
        "outputId": "dad33ad7-cfb2-4f13-99b5-394517a29d2a"
      },
      "execution_count": 2,
      "outputs": [
        {
          "output_type": "stream",
          "name": "stdout",
          "text": [
            "[1 2 3 4]\n"
          ]
        }
      ]
    },
    {
      "cell_type": "code",
      "source": [
        "converted_array = tf.convert_to_tensor(np_array)\n",
        "print(converted_array)"
      ],
      "metadata": {
        "colab": {
          "base_uri": "https://localhost:8080/"
        },
        "id": "Ofnjrnc3J25e",
        "outputId": "ce7092bd-8e1b-44cf-d265-d0b034c49a8a"
      },
      "execution_count": 5,
      "outputs": [
        {
          "output_type": "stream",
          "name": "stdout",
          "text": [
            "tf.Tensor([1 2 3 4], shape=(4,), dtype=int64)\n"
          ]
        }
      ]
    },
    {
      "cell_type": "code",
      "source": [
        "#Construct an identity matrix https://www.tensorflow.org/api_docs/python/tf/eye\n",
        "eye_tensor = tf.eye(\n",
        "    4,\n",
        "    num_columns=None,\n",
        "    batch_shape=None,\n",
        "    dtype=tf.dtypes.float32,\n",
        "    name=None\n",
        ")\n",
        "print(eye_tensor)"
      ],
      "metadata": {
        "colab": {
          "base_uri": "https://localhost:8080/"
        },
        "id": "t4KwEKjdJ8jf",
        "outputId": "5fb7e23f-6d38-4aeb-cd6d-216c9dcf5d17"
      },
      "execution_count": 6,
      "outputs": [
        {
          "output_type": "stream",
          "name": "stdout",
          "text": [
            "tf.Tensor(\n",
            "[[1. 0. 0. 0.]\n",
            " [0. 1. 0. 0.]\n",
            " [0. 0. 1. 0.]\n",
            " [0. 0. 0. 1.]], shape=(4, 4), dtype=float32)\n"
          ]
        }
      ]
    },
    {
      "cell_type": "code",
      "source": [
        "eye_tensor = tf.eye(\n",
        "    4,\n",
        "    num_columns=None,\n",
        "    batch_shape=[4,],\n",
        "    dtype=tf.dtypes.float32,\n",
        "    name=None\n",
        ")\n",
        "print(eye_tensor)"
      ],
      "metadata": {
        "colab": {
          "base_uri": "https://localhost:8080/"
        },
        "id": "4oBiAx52KVvD",
        "outputId": "3dc5e66a-69dd-4a39-d3e4-9ea044236383"
      },
      "execution_count": 9,
      "outputs": [
        {
          "output_type": "stream",
          "name": "stdout",
          "text": [
            "tf.Tensor(\n",
            "[[[1. 0. 0. 0.]\n",
            "  [0. 1. 0. 0.]\n",
            "  [0. 0. 1. 0.]\n",
            "  [0. 0. 0. 1.]]\n",
            "\n",
            " [[1. 0. 0. 0.]\n",
            "  [0. 1. 0. 0.]\n",
            "  [0. 0. 1. 0.]\n",
            "  [0. 0. 0. 1.]]\n",
            "\n",
            " [[1. 0. 0. 0.]\n",
            "  [0. 1. 0. 0.]\n",
            "  [0. 0. 1. 0.]\n",
            "  [0. 0. 0. 1.]]\n",
            "\n",
            " [[1. 0. 0. 0.]\n",
            "  [0. 1. 0. 0.]\n",
            "  [0. 0. 1. 0.]\n",
            "  [0. 0. 0. 1.]]], shape=(4, 4, 4), dtype=float32)\n"
          ]
        }
      ]
    },
    {
      "cell_type": "code",
      "source": [
        "#Creates a tensor filled with a scalar value. https://www.tensorflow.org/api_docs/python/tf/fill\n",
        "\"\"\"tf.fill(\n",
        "    dims, value, name=None, layout=None\n",
        ")\"\"\"\n",
        "\n",
        "fill_tensor = tf.fill(\n",
        "    [3,4], 5, name=None, layout=None\n",
        ")\n",
        "print(fill_tensor)"
      ],
      "metadata": {
        "colab": {
          "base_uri": "https://localhost:8080/"
        },
        "id": "8NO9AVodKuuG",
        "outputId": "07bd3e5f-4391-4c16-b068-ad3afa1bee00"
      },
      "execution_count": 10,
      "outputs": [
        {
          "output_type": "stream",
          "name": "stdout",
          "text": [
            "tf.Tensor(\n",
            "[[5 5 5 5]\n",
            " [5 5 5 5]\n",
            " [5 5 5 5]], shape=(3, 4), dtype=int32)\n"
          ]
        }
      ]
    },
    {
      "cell_type": "code",
      "source": [
        "#Creates a tensor with all elements set to one (1). https://www.tensorflow.org/api_docs/python/tf/ones\n",
        "tf_ones = tf.ones(\n",
        "    [3,2,3],\n",
        "    dtype=tf.dtypes.float32,\n",
        "    name=None,\n",
        "    layout=None\n",
        ")\n",
        "\n",
        "print(tf_ones)"
      ],
      "metadata": {
        "colab": {
          "base_uri": "https://localhost:8080/"
        },
        "id": "x-0UrTjELcGb",
        "outputId": "a1282de1-25b4-4226-ecf2-5fa30bf20f6e"
      },
      "execution_count": 11,
      "outputs": [
        {
          "output_type": "stream",
          "name": "stdout",
          "text": [
            "tf.Tensor(\n",
            "[[[1. 1. 1.]\n",
            "  [1. 1. 1.]]\n",
            "\n",
            " [[1. 1. 1.]\n",
            "  [1. 1. 1.]]\n",
            "\n",
            " [[1. 1. 1.]\n",
            "  [1. 1. 1.]]], shape=(3, 2, 3), dtype=float32)\n"
          ]
        }
      ]
    },
    {
      "cell_type": "code",
      "source": [
        "#Creates a tensor of all ones that has the same shape as the input. https://www.tensorflow.org/api_docs/python/tf/ones_like\n",
        "\n",
        "tf_ones_like = tf.ones_like(\n",
        "    tf_ones, dtype=None, name=None, layout=None\n",
        ")\n",
        "\n",
        "print( tf_ones_like)"
      ],
      "metadata": {
        "colab": {
          "base_uri": "https://localhost:8080/"
        },
        "id": "z133o_-7Lyhu",
        "outputId": "1f2f4d7b-9f65-4583-e2ff-fe6ca37a7bfc"
      },
      "execution_count": 13,
      "outputs": [
        {
          "output_type": "stream",
          "name": "stdout",
          "text": [
            "tf.Tensor(\n",
            "[[[1. 1. 1.]\n",
            "  [1. 1. 1.]]\n",
            "\n",
            " [[1. 1. 1.]\n",
            "  [1. 1. 1.]]\n",
            "\n",
            " [[1. 1. 1.]\n",
            "  [1. 1. 1.]]], shape=(3, 2, 3), dtype=float32)\n"
          ]
        }
      ]
    },
    {
      "cell_type": "markdown",
      "source": [
        "# Another methods are\n",
        "zeros,\n",
        "zeros_like,\n",
        "shap,\n",
        "Rank,\n",
        "size"
      ],
      "metadata": {
        "id": "P7hzaGK-M2Kj"
      }
    },
    {
      "cell_type": "markdown",
      "source": [
        "# Random Normal Distribution"
      ],
      "metadata": {
        "id": "YrlvpyCeN0A9"
      }
    },
    {
      "cell_type": "code",
      "source": [
        "# https://www.tensorflow.org/api_docs/python/tf/random"
      ],
      "metadata": {
        "id": "u1hsPHJNM1TC"
      },
      "execution_count": 14,
      "outputs": []
    },
    {
      "cell_type": "code",
      "source": [
        "# Outputs random values from a normal distribution.\n",
        "# https://www.acsu.buffalo.edu/~adamcunn/probability/normal.html  playGround normal distribution\n",
        "\n",
        "tf_normal_random = tf.random.normal(\n",
        "    [3,2],\n",
        "    mean=0.0,\n",
        "    stddev=1.0,\n",
        "    dtype=tf.dtypes.float32,\n",
        "    seed=None,\n",
        "    name=None\n",
        ")\n",
        "\n",
        "print(tf_normal_random)"
      ],
      "metadata": {
        "colab": {
          "base_uri": "https://localhost:8080/"
        },
        "id": "8HawFVwLOKX7",
        "outputId": "a6d0f1b3-318e-485e-9688-43e7b75bf0c7"
      },
      "execution_count": 16,
      "outputs": [
        {
          "output_type": "stream",
          "name": "stdout",
          "text": [
            "tf.Tensor(\n",
            "[[-0.23784274  1.040484  ]\n",
            " [ 0.6539853  -1.693266  ]\n",
            " [-1.6516482  -1.5349246 ]], shape=(3, 2), dtype=float32)\n"
          ]
        }
      ]
    },
    {
      "cell_type": "code",
      "source": [],
      "metadata": {
        "id": "CS-2FyoxOeyD"
      },
      "execution_count": null,
      "outputs": []
    },
    {
      "cell_type": "code",
      "source": [],
      "metadata": {
        "id": "FpyFUpLcQWxF"
      },
      "execution_count": null,
      "outputs": []
    },
    {
      "cell_type": "code",
      "source": [],
      "metadata": {
        "id": "jCKfhp74QWnd"
      },
      "execution_count": null,
      "outputs": []
    },
    {
      "cell_type": "code",
      "source": [],
      "metadata": {
        "id": "a32u1yItQWZn"
      },
      "execution_count": null,
      "outputs": []
    },
    {
      "cell_type": "markdown",
      "source": [
        "# INDEXING"
      ],
      "metadata": {
        "id": "E6-yciaKQX6i"
      }
    },
    {
      "cell_type": "code",
      "source": [
        "tensor_index = tf.constant([1,2,3,4,5,6])\n",
        "print(tensor_index)\n",
        "print(tensor_index[1:4])"
      ],
      "metadata": {
        "colab": {
          "base_uri": "https://localhost:8080/"
        },
        "id": "_lZB4dKDQaa4",
        "outputId": "0ba1a172-ce99-4b65-fb5f-1dc21137df7d"
      },
      "execution_count": 17,
      "outputs": [
        {
          "output_type": "stream",
          "name": "stdout",
          "text": [
            "tf.Tensor([1 2 3 4 5 6], shape=(6,), dtype=int32)\n",
            "tf.Tensor([2 3 4], shape=(3,), dtype=int32)\n"
          ]
        }
      ]
    },
    {
      "cell_type": "code",
      "source": [
        "tf.range( 1,10)"
      ],
      "metadata": {
        "colab": {
          "base_uri": "https://localhost:8080/"
        },
        "id": "gL95tjTTQ-lj",
        "outputId": "f5d9d616-280e-4ffb-9fdc-65521e6825e4"
      },
      "execution_count": 18,
      "outputs": [
        {
          "output_type": "execute_result",
          "data": {
            "text/plain": [
              "<tf.Tensor: shape=(9,), dtype=int32, numpy=array([1, 2, 3, 4, 5, 6, 7, 8, 9], dtype=int32)>"
            ]
          },
          "metadata": {},
          "execution_count": 18
        }
      ]
    },
    {
      "cell_type": "code",
      "source": [
        "tensor_two_d = tf.constant([\n",
        "    [1,2,3],\n",
        "    [4,5,6],\n",
        "    [7,8,9]\n",
        "])\n",
        "print(tensor_two_d[:2 ,:2 ])\n",
        "print(\"\\n\")\n",
        "print(tensor_two_d[2 ,:2 ])\n",
        "print(\"\\n\")\n",
        "print(tensor_two_d[2 ,2 ])\n",
        "print(\"\\n\")\n",
        "print(tensor_two_d[:,2 ])"
      ],
      "metadata": {
        "colab": {
          "base_uri": "https://localhost:8080/"
        },
        "id": "QJ9WEMRlSUIr",
        "outputId": "2e0b6b7b-4d00-4fbc-dd15-2bc8e7f44ce2"
      },
      "execution_count": 23,
      "outputs": [
        {
          "output_type": "stream",
          "name": "stdout",
          "text": [
            "tf.Tensor(\n",
            "[[1 2]\n",
            " [4 5]], shape=(2, 2), dtype=int32)\n",
            "\n",
            "\n",
            "tf.Tensor([7 8], shape=(2,), dtype=int32)\n",
            "\n",
            "\n",
            "tf.Tensor(9, shape=(), dtype=int32)\n",
            "\n",
            "\n",
            "tf.Tensor([3 6 9], shape=(3,), dtype=int32)\n"
          ]
        }
      ]
    },
    {
      "cell_type": "code",
      "source": [],
      "metadata": {
        "id": "fVIRGP0uUgaI"
      },
      "execution_count": null,
      "outputs": []
    },
    {
      "cell_type": "code",
      "source": [],
      "metadata": {
        "id": "Ntp7fH-0VXFs"
      },
      "execution_count": null,
      "outputs": []
    },
    {
      "cell_type": "code",
      "source": [],
      "metadata": {
        "id": "cds9R8-kVXYV"
      },
      "execution_count": null,
      "outputs": []
    },
    {
      "cell_type": "markdown",
      "source": [
        "# MATH"
      ],
      "metadata": {
        "id": "zLWtrjBiVYZ8"
      }
    },
    {
      "cell_type": "code",
      "source": [
        "# https://www.tensorflow.org/api_docs/python/tf/math"
      ],
      "metadata": {
        "id": "Z7iKtjEoVZ9g"
      },
      "execution_count": null,
      "outputs": []
    },
    {
      "cell_type": "code",
      "source": [
        "# Computes the absolute value of a tensor.\n",
        "x = -5\n",
        "print(\n",
        "    tf.math.abs(\n",
        "    x, name=None\n",
        ")\n",
        ")\n",
        "\n"
      ],
      "metadata": {
        "colab": {
          "base_uri": "https://localhost:8080/"
        },
        "id": "8tANCfZZVrmU",
        "outputId": "3a4d8e12-6522-4b91-8fff-5680ea4b1947"
      },
      "execution_count": 24,
      "outputs": [
        {
          "output_type": "stream",
          "name": "stdout",
          "text": [
            "tf.Tensor(5, shape=(), dtype=int32)\n"
          ]
        }
      ]
    },
    {
      "cell_type": "code",
      "source": [
        "# omputes the power of one value to another.\n",
        "print(\n",
        "    tf.math.pow(\n",
        "    2, 3, name=None\n",
        ")\n",
        ")\n"
      ],
      "metadata": {
        "colab": {
          "base_uri": "https://localhost:8080/"
        },
        "id": "J0YMGAqeWGMC",
        "outputId": "e7803571-2e15-466c-f77f-7e4f870d53ff"
      },
      "execution_count": 25,
      "outputs": [
        {
          "output_type": "stream",
          "name": "stdout",
          "text": [
            "tf.Tensor(8, shape=(), dtype=int32)\n"
          ]
        }
      ]
    },
    {
      "cell_type": "code",
      "source": [
        "# Computes a safe divide which returns 0 if y (denominator) is zero.\n",
        "print(\n",
        "    tf.math.divide_no_nan(\n",
        "    1.0, 0.0\n",
        ")\n",
        ")\n"
      ],
      "metadata": {
        "colab": {
          "base_uri": "https://localhost:8080/"
        },
        "id": "liLZQbJdWUes",
        "outputId": "eef6a6c0-580e-4946-d224-f65a464e5d63"
      },
      "execution_count": 26,
      "outputs": [
        {
          "output_type": "stream",
          "name": "stdout",
          "text": [
            "tf.Tensor(0.0, shape=(), dtype=float32)\n"
          ]
        }
      ]
    },
    {
      "cell_type": "code",
      "source": [
        "# Divides x / y elementwise, rounding toward the most negative integer.\n",
        "print(\n",
        "    tf.math.floordiv(\n",
        "    10, 3, name=None\n",
        ")\n",
        ")"
      ],
      "metadata": {
        "colab": {
          "base_uri": "https://localhost:8080/"
        },
        "id": "HVYoegnNWsQk",
        "outputId": "0db8c69b-076f-4dca-cec5-7a4e50a27753"
      },
      "execution_count": 27,
      "outputs": [
        {
          "output_type": "stream",
          "name": "stdout",
          "text": [
            "tf.Tensor(3, shape=(), dtype=int32)\n"
          ]
        }
      ]
    },
    {
      "cell_type": "code",
      "source": [
        "# Returns the index with the largest value across axes of a tensor.  https://www.tensorflow.org/api_docs/python/tf/math/argmax\n",
        "\n",
        "x_argmax = tf.math.argmax(\n",
        "    [\n",
        "    [1,10,3],\n",
        "    [4,5,6],\n",
        "    [7,8,9]\n",
        "]\n",
        ")\n",
        "\n",
        "print(x_argmax.shape)\n",
        "print(x_argmax,0)"
      ],
      "metadata": {
        "id": "tWUlM_VyaqZG",
        "outputId": "0575e7b1-d8f8-4d38-88de-b91af3439920",
        "colab": {
          "base_uri": "https://localhost:8080/"
        }
      },
      "execution_count": 32,
      "outputs": [
        {
          "output_type": "stream",
          "name": "stdout",
          "text": [
            "(3,)\n",
            "tf.Tensor([2 0 2], shape=(3,), dtype=int64) 0\n"
          ]
        }
      ]
    },
    {
      "cell_type": "code",
      "source": [
        "x_argmax = tf.math.argmax(\n",
        "    [\n",
        "    [1,10,3],\n",
        "    [4,5,6],\n",
        "    [7,28,9]\n",
        "],\n",
        "    axis=1\n",
        ")\n",
        "\n",
        "print(x_argmax)"
      ],
      "metadata": {
        "colab": {
          "base_uri": "https://localhost:8080/"
        },
        "id": "-vbmc6OAXCT6",
        "outputId": "03389210-7caf-498c-ead2-9651ce47c50c"
      },
      "execution_count": 34,
      "outputs": [
        {
          "output_type": "stream",
          "name": "stdout",
          "text": [
            "tf.Tensor([1 2 1], shape=(3,), dtype=int64)\n"
          ]
        }
      ]
    },
    {
      "cell_type": "code",
      "source": [],
      "metadata": {
        "id": "l8QJF88xbk_L"
      },
      "execution_count": null,
      "outputs": []
    },
    {
      "cell_type": "code",
      "source": [],
      "metadata": {
        "id": "cKnpMq1kb2Bt"
      },
      "execution_count": null,
      "outputs": []
    },
    {
      "cell_type": "code",
      "source": [],
      "metadata": {
        "id": "v1sLVDfKdSxG"
      },
      "execution_count": null,
      "outputs": []
    },
    {
      "cell_type": "markdown",
      "source": [
        "# Linear algebra"
      ],
      "metadata": {
        "id": "o8LHlpLkehYx"
      }
    },
    {
      "cell_type": "code",
      "source": [],
      "metadata": {
        "id": "AScQdTZQtOO1"
      },
      "execution_count": null,
      "outputs": []
    },
    {
      "cell_type": "code",
      "source": [
        "# https://www.tensorflow.org/api_docs/python/tf/linalg"
      ],
      "metadata": {
        "id": "xEw67CpUej20"
      },
      "execution_count": null,
      "outputs": []
    },
    {
      "cell_type": "code",
      "source": [
        "# prompt: Give tensorflow linalg package all methods implemented in example\n",
        "\n",
        "# Matrix multiplication\n",
        "matrix_u = tf.constant([\n",
        "    [1,2,3],\n",
        "    [4,5,6],\n",
        "    [7,8,9]\n",
        "])\n",
        "matrix_v = tf.constant([\n",
        "    [9,8,7],\n",
        "    [6,5,4],\n",
        "    [3,2,1]\n",
        "])\n",
        "mat_mul = tf.linalg.matmul(\n",
        "    matrix_u,\n",
        "    matrix_v,\n",
        "    transpose_a=False,\n",
        "    transpose_b=False,\n",
        "    adjoint_a=False,\n",
        "    adjoint_b=False,\n",
        "    a_is_sparse=False,\n",
        "    b_is_sparse=False,\n",
        "    name=None\n",
        ")\n",
        "print(mat_mul)\n",
        "# Computes the determinant of one or more square matrices.\n",
        "matrix_2_2 = tf.constant([\n",
        "    [1,2],\n",
        "    [3,4]\n",
        "], dtype=tf.float32)\n",
        "print(tf.linalg.det(matrix_2_2))\n",
        "# Computes the sign and the log of the absolute value of the determinant of one or more square matrices.\n",
        "sign , log_abs_det  = tf.linalg.slogdet(\n",
        "    matrix_2_2, name=None\n",
        ")\n",
        "print(sign,log_abs_det)\n",
        "# Computes the inverse of one or more square invertible matrices or their adjoints (conjugate transposes).\n",
        "matrix_inv = tf.linalg.inv(\n",
        "    matrix_2_2, adjoint=False, name=None\n",
        ")\n",
        "print(matrix_inv)\n",
        "# Solves systems of linear equations.\n",
        "x = tf.linalg.solve(\n",
        "    matrix_2_2,\n",
        "    [\n",
        "        [1,0],\n",
        "        [0,1]\n",
        "    ],\n",
        "    adjoint=False, name=None\n",
        ")\n",
        "print(x)\n",
        "# Computes the eigenvalues of one or more matrices.\n",
        "e , v = tf.linalg.eig(\n",
        "    matrix_2_2, name=None\n",
        ")\n",
        "print(e,v)\n",
        "# Computes the singular value decompositions of one or more matrices.\n",
        "s,u,v = tf.linalg.svd(\n",
        "    matrix_2_2, full_matrices=False, compute_uv=True, name=None\n",
        ")\n",
        "print(s,u,v)\n",
        "# QR Decomposition\n",
        "q,r = tf.linalg.qr(\n",
        "    matrix_2_2, full_matrices=False, name=None\n",
        ")\n",
        "print(q,r)\n"
      ],
      "metadata": {
        "id": "0jxIISv4hLU1",
        "outputId": "fbc10ef1-1135-4d6a-dae7-ccc6658081c9",
        "colab": {
          "base_uri": "https://localhost:8080/"
        }
      },
      "execution_count": 45,
      "outputs": [
        {
          "output_type": "stream",
          "name": "stdout",
          "text": [
            "tf.Tensor(\n",
            "[[ 30  24  18]\n",
            " [ 84  69  54]\n",
            " [138 114  90]], shape=(3, 3), dtype=int32)\n",
            "tf.Tensor(-2.0, shape=(), dtype=float32)\n",
            "tf.Tensor(-1.0, shape=(), dtype=float32) tf.Tensor(0.6931472, shape=(), dtype=float32)\n",
            "tf.Tensor(\n",
            "[[-2.0000002   1.0000001 ]\n",
            " [ 1.5000001  -0.50000006]], shape=(2, 2), dtype=float32)\n",
            "tf.Tensor(\n",
            "[[-2.0000002   1.0000001 ]\n",
            " [ 1.5000001  -0.50000006]], shape=(2, 2), dtype=float32)\n",
            "tf.Tensor([-0.37228122+0.j  5.372281  +0.j], shape=(2,), dtype=complex64) tf.Tensor(\n",
            "[[-0.8245648 +0.j -0.41597357+0.j]\n",
            " [ 0.56576747+0.j -0.90937674+0.j]], shape=(2, 2), dtype=complex64)\n",
            "tf.Tensor([5.4649854  0.36596614], shape=(2,), dtype=float32) tf.Tensor(\n",
            "[[ 0.4045535 -0.9145143]\n",
            " [ 0.9145143  0.4045535]], shape=(2, 2), dtype=float32) tf.Tensor(\n",
            "[[ 0.5760484  0.8174156]\n",
            " [ 0.8174156 -0.5760484]], shape=(2, 2), dtype=float32)\n",
            "tf.Tensor(\n",
            "[[-0.3162278  -0.9486833 ]\n",
            " [-0.9486833   0.31622773]], shape=(2, 2), dtype=float32) tf.Tensor(\n",
            "[[-3.1622777  -4.4271884 ]\n",
            " [ 0.         -0.63245535]], shape=(2, 2), dtype=float32)\n"
          ]
        }
      ]
    },
    {
      "cell_type": "markdown",
      "source": [
        "# Sparse Tensor"
      ],
      "metadata": {
        "id": "j7g56K4Ts0AK"
      }
    },
    {
      "cell_type": "code",
      "source": [
        "# https://www.tensorflow.org/api_docs/python/tf/linalg/band_part"
      ],
      "metadata": {
        "id": "CooI9bontikd"
      },
      "execution_count": null,
      "outputs": []
    },
    {
      "cell_type": "code",
      "source": [
        "# prompt: what is sparse tensor\n",
        "\n",
        "# Sparse Tensor\n",
        "# A sparse tensor is a tensor that has a majority of its elements as zero.\n",
        "# This allows for efficient storage and computation, as only the non-zero elements and their indices need to be stored.\n"
      ],
      "metadata": {
        "id": "IMgnOJt4tBUa"
      },
      "execution_count": 44,
      "outputs": []
    },
    {
      "cell_type": "code",
      "source": [
        "\n",
        "\n",
        "# Create a sparse tensor\n",
        "sparse_tensor = tf.sparse.SparseTensor(\n",
        "    indices=[[0, 0], [1, 2]],\n",
        "    values=[1, 2],\n",
        "    dense_shape=[3, 4]\n",
        ")\n",
        "\n",
        "# Convert to dense tensor\n",
        "dense_tensor = tf.sparse.to_dense(sparse_tensor)\n",
        "print(dense_tensor)\n",
        "\n",
        "# Sparse matrix multiplication\n",
        "sparse_matrix_a = tf.sparse.SparseTensor(\n",
        "    indices=[[0, 0], [1, 1]],\n",
        "    values=[1, 2],\n",
        "    dense_shape=[2, 2]\n",
        ")\n",
        "dense_matrix_b = tf.constant([[1, 2], [3, 4]], dtype=tf.float32)\n",
        "result = tf.sparse.sparse_dense_matmul(sparse_matrix_a, dense_matrix_b)\n",
        "print(result)\n"
      ],
      "metadata": {
        "id": "Yt5cX9GCthZT"
      },
      "execution_count": null,
      "outputs": []
    },
    {
      "cell_type": "code",
      "source": [
        "# Copy a tensor setting everything outside a central band in each innermost matrix to zero."
      ],
      "metadata": {
        "id": "BQ5ELmBZs2-q"
      },
      "execution_count": null,
      "outputs": []
    },
    {
      "cell_type": "code",
      "source": [
        "tf.linalg.band_part(\n",
        "    input: Annotated[Any, TV_MatrixBandPart_T],\n",
        "    num_lower: Annotated[Any, TV_MatrixBandPart_Tindex],\n",
        "    num_upper: Annotated[Any, TV_MatrixBandPart_Tindex],\n",
        "    name=None\n",
        ") -> Annotated[Any, TV_MatrixBandPart_T]\n",
        "\n"
      ],
      "metadata": {
        "id": "L8p8l7cFtxzT"
      },
      "execution_count": null,
      "outputs": []
    },
    {
      "cell_type": "markdown",
      "source": [
        "The band part is computed as follows: Assume input has k dimensions [I, J, K, ..., M, N], then the output is a tensor with the same shape where\n",
        "\n",
        "band[i, j, k, ..., m, n] = in_band(m, n) * input[i, j, k, ..., m, n].\n",
        "\n",
        "The indicator function\n",
        "\n",
        "in_band(m, n) = (num_lower < 0 || (m-n) <= num_lower)) && (num_upper < 0 || (n-m) <= num_upper)."
      ],
      "metadata": {
        "id": "C3bGioq5uAQg"
      }
    },
    {
      "cell_type": "code",
      "source": [
        "# if 'input' is [[ 0,  1,  2, 3]\n",
        "#                [-1,  0,  1, 2]\n",
        "#                [-2, -1,  0, 1]\n",
        "#                [-3, -2, -1, 0]],"
      ],
      "metadata": {
        "id": "_hBly8L5uBKV"
      },
      "execution_count": null,
      "outputs": []
    },
    {
      "cell_type": "code",
      "source": [
        "input = tf.constant([\n",
        "    [ 0,  1,  2, 3],\n",
        "                [-1,  0,  1, 2],\n",
        "                [-2, -1,  0, 1],\n",
        "                [-3, -2, -1, 0]])"
      ],
      "metadata": {
        "id": "7EbNE3IDufBz"
      },
      "execution_count": 48,
      "outputs": []
    },
    {
      "cell_type": "code",
      "source": [
        "tf.linalg.band_part(input, 1, -1)\n"
      ],
      "metadata": {
        "id": "89z9M-zEuFJc",
        "outputId": "c8fe6e27-4e7f-4411-a4f6-32c8f8f39dd6",
        "colab": {
          "base_uri": "https://localhost:8080/"
        }
      },
      "execution_count": 51,
      "outputs": [
        {
          "output_type": "execute_result",
          "data": {
            "text/plain": [
              "<tf.Tensor: shape=(4, 4), dtype=int32, numpy=\n",
              "array([[ 0,  1,  2,  3],\n",
              "       [-1,  0,  1,  2],\n",
              "       [ 0, -1,  0,  1],\n",
              "       [ 0,  0, -1,  0]], dtype=int32)>"
            ]
          },
          "metadata": {},
          "execution_count": 51
        }
      ]
    },
    {
      "cell_type": "code",
      "source": [
        "#  tf.linalg.band_part(input, 0, -1) ==> Upper triangular part.\n",
        "#  tf.linalg.band_part(input, -1, 0) ==> Lower triangular part.\n",
        "#  tf.linalg.band_part(input, 0, 0) ==> Diagonal."
      ],
      "metadata": {
        "id": "cVa4xCebuJg9"
      },
      "execution_count": null,
      "outputs": []
    },
    {
      "cell_type": "code",
      "source": [],
      "metadata": {
        "id": "727IJuYnu2mr"
      },
      "execution_count": null,
      "outputs": []
    },
    {
      "cell_type": "code",
      "source": [
        "tf.linalg.band_part(input, 0, -1)\n"
      ],
      "metadata": {
        "id": "DCSVgcMovH3q",
        "outputId": "2031ee5e-3fc1-4fad-84cf-53b179b4e3d9",
        "colab": {
          "base_uri": "https://localhost:8080/"
        }
      },
      "execution_count": 52,
      "outputs": [
        {
          "output_type": "execute_result",
          "data": {
            "text/plain": [
              "<tf.Tensor: shape=(4, 4), dtype=int32, numpy=\n",
              "array([[0, 1, 2, 3],\n",
              "       [0, 0, 1, 2],\n",
              "       [0, 0, 0, 1],\n",
              "       [0, 0, 0, 0]], dtype=int32)>"
            ]
          },
          "metadata": {},
          "execution_count": 52
        }
      ]
    },
    {
      "cell_type": "code",
      "source": [
        "tf.linalg.band_part(input, -1, 0)\n"
      ],
      "metadata": {
        "id": "BAzJytlgvI_9",
        "outputId": "f6b39271-a00f-423d-aa15-797dc30463f3",
        "colab": {
          "base_uri": "https://localhost:8080/"
        }
      },
      "execution_count": 54,
      "outputs": [
        {
          "output_type": "execute_result",
          "data": {
            "text/plain": [
              "<tf.Tensor: shape=(4, 4), dtype=int32, numpy=\n",
              "array([[ 0,  0,  0,  0],\n",
              "       [-1,  0,  0,  0],\n",
              "       [-2, -1,  0,  0],\n",
              "       [-3, -2, -1,  0]], dtype=int32)>"
            ]
          },
          "metadata": {},
          "execution_count": 54
        }
      ]
    },
    {
      "cell_type": "code",
      "source": [
        "tf.linalg.band_part(input, 0, 0)"
      ],
      "metadata": {
        "id": "KaD4voROvLge",
        "outputId": "c2399f2f-be80-4e88-ab43-40f5c158cc65",
        "colab": {
          "base_uri": "https://localhost:8080/"
        }
      },
      "execution_count": 55,
      "outputs": [
        {
          "output_type": "execute_result",
          "data": {
            "text/plain": [
              "<tf.Tensor: shape=(4, 4), dtype=int32, numpy=\n",
              "array([[0, 0, 0, 0],\n",
              "       [0, 0, 0, 0],\n",
              "       [0, 0, 0, 0],\n",
              "       [0, 0, 0, 0]], dtype=int32)>"
            ]
          },
          "metadata": {},
          "execution_count": 55
        }
      ]
    },
    {
      "cell_type": "code",
      "source": [],
      "metadata": {
        "id": "cPHPGWBvvM0B"
      },
      "execution_count": null,
      "outputs": []
    },
    {
      "cell_type": "markdown",
      "source": [
        "Computes the inverse of one or more square invertible matrices or their adjoints (conjugate transposes)."
      ],
      "metadata": {
        "id": "fqX45Tq8vXY1"
      }
    },
    {
      "cell_type": "code",
      "source": [
        "# https://www.tensorflow.org/api_docs/python/tf/linalg/inv"
      ],
      "metadata": {
        "id": "TMNzVNDIvZQg"
      },
      "execution_count": 56,
      "outputs": []
    },
    {
      "cell_type": "code",
      "source": [
        "\n",
        "# Define a square invertible matrix\n",
        "matrix = tf.constant([[1, 2], [3, 4]], dtype=tf.float32)\n",
        "\n",
        "# Compute the inverse of the matrix\n",
        "inverse_matrix = tf.linalg.inv(matrix)\n",
        "\n",
        "# Print the inverse matrix\n",
        "print(inverse_matrix)\n"
      ],
      "metadata": {
        "id": "PcGPMLuyvboz",
        "outputId": "1a84033f-09ed-43fb-f342-bbeafc11e216",
        "colab": {
          "base_uri": "https://localhost:8080/"
        }
      },
      "execution_count": 65,
      "outputs": [
        {
          "output_type": "stream",
          "name": "stdout",
          "text": [
            "tf.Tensor(\n",
            "[[-2.0000002   1.0000001 ]\n",
            " [ 1.5000001  -0.50000006]], shape=(2, 2), dtype=float32)\n"
          ]
        }
      ]
    },
    {
      "cell_type": "code",
      "source": [],
      "metadata": {
        "id": "35u-l5_Lvh3l"
      },
      "execution_count": null,
      "outputs": []
    }
  ]
}